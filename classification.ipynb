{
 "cells": [
  {
   "cell_type": "code",
   "execution_count": 1,
   "metadata": {},
   "outputs": [],
   "source": [
    "import numpy as np\n",
    "import matplotlib.pyplot as plt\n",
    "import seaborn as sns\n",
    "import pandas as pd\n",
    "from scipy.signal import find_peaks\n",
    "from sklearn import preprocessing\n",
    "import os\n",
    "import warnings\n",
    "warnings.filterwarnings('ignore')"
   ]
  },
  {
   "cell_type": "code",
   "execution_count": 2,
   "metadata": {},
   "outputs": [],
   "source": [
    "def generate_signal(path):\n",
    "    df = pd.read_csv(path, sep='\\t', names = ['Sensor 1', 'Sensor 2'])\n",
    "    signal = np.sin(df['Sensor 1'] + df['Sensor 2'])\n",
    "    signal = np.asarray(signal)\n",
    "    return signal"
   ]
  },
  {
   "cell_type": "code",
   "execution_count": 3,
   "metadata": {},
   "outputs": [],
   "source": [
    "def amplitude_peaks(path,sample_frequency):\n",
    "    amp1 = []\n",
    "    amp2 = []\n",
    "\n",
    "    for file in os.listdir(path):\n",
    "        x = generate_signal(path+file)\n",
    "\n",
    "        num_samples = x.size\n",
    "        num_half = num_samples//2\n",
    "        f = np.fft.fftfreq(t.shape[-1])*sample_frequency # frequency information\n",
    "        # Apply Hanning Window\n",
    "        window = np.hamming(num_samples)\n",
    "        x_window = x*window\n",
    "\n",
    "        # Compute Fast Fourier Transform\n",
    "        fft_window = np.fft.fft(x_window)       # complex spectrum\n",
    "        fft_window_abs = np.abs(fft_window)     # amplitude spectrum\n",
    "\n",
    "        # Get amplitude peaks\n",
    "        peaks_index, properties = find_peaks(fft_window_abs[:num_half] / num_samples, height=0.001)\n",
    "\n",
    "        amp_list = properties['peak_heights'].tolist()\n",
    "        freq_list = peaks_index.tolist()\n",
    "\n",
    "        largest_amp = max(amp_list)\n",
    "        index1 = amp_list.index(largest_amp)\n",
    "        largest_freq =  freq_list[index1]\n",
    "\n",
    "        amp_list.remove(largest_amp)\n",
    "        freq_list.remove(largest_freq)\n",
    "\n",
    "        second_largest_amp = max(amp_list)\n",
    "        index2 = amp_list.index(second_largest_amp)\n",
    "        second_largest_freq =  freq_list[index2]\n",
    "\n",
    "        amp1.append(largest_amp)\n",
    "        amp2.append(second_largest_amp)\n",
    "        \n",
    "    return {'amplitude1': amp1, 'amplitude2': amp2}"
   ]
  },
  {
   "cell_type": "code",
   "execution_count": 4,
   "metadata": {},
   "outputs": [],
   "source": [
    "directory = \"../../dsia-task3/task3_dataset/\"\n",
    "folderpath = directory + 'vibrationdata/'\n",
    "targetfile = pd.read_csv(directory + 'product_quality_log.csv')\n",
    "\n",
    "# Define Signal with two components\n",
    "sample_frequency = 20480 # Hz\n",
    "signal_timewindow = 1 # seconds\n",
    "# Generate Signal Data\n",
    "t = np.linspace(0, signal_timewindow, round(signal_timewindow*sample_frequency))\n",
    "\n",
    "# Feature extraction - get amplitude peak values using FFT\n",
    "lb = preprocessing.LabelBinarizer()\n",
    "(X,y) = ((pd.DataFrame(amplitude_peaks(folderpath,sample_frequency)),lb.fit_transform(targetfile['quality'])))\n",
    "\n",
    "target_names = list(dict.fromkeys(targetfile['quality']))"
   ]
  },
  {
   "cell_type": "code",
   "execution_count": 5,
   "metadata": {},
   "outputs": [],
   "source": [
    "import matplotlib.pyplot as plt\n",
    "from statistics import mean\n",
    "from matplotlib import pyplot\n",
    "from sklearn.model_selection import train_test_split\n",
    "from sklearn.model_selection import cross_validate\n",
    "from sklearn.model_selection import RepeatedStratifiedKFold\n",
    "from sklearn.metrics import plot_confusion_matrix\n",
    "from sklearn.ensemble import RandomForestClassifier\n",
    "from sklearn.model_selection import cross_val_score\n",
    "from sklearn.metrics import classification_report\n",
    "from sklearn.metrics import confusion_matrix, ConfusionMatrixDisplay"
   ]
  },
  {
   "cell_type": "code",
   "execution_count": 6,
   "metadata": {},
   "outputs": [
    {
     "name": "stdout",
     "output_type": "stream",
     "text": [
      "Mean f1: 0.007\n",
      "Mean recall: 0.004\n",
      "Mean precision: 0.033\n",
      "Average Score: 0.9406182304977484\n",
      "              precision    recall  f1-score   support\n",
      "\n",
      "          OK       0.94      1.00      0.97       517\n",
      "         nOK       0.00      0.00      0.00        30\n",
      "\n",
      "    accuracy                           0.94       547\n",
      "   macro avg       0.47      0.50      0.48       547\n",
      "weighted avg       0.89      0.94      0.92       547\n",
      "\n"
     ]
    },
    {
     "data": {
      "image/png": "[encoded data removed]",
      "text/plain": [
       "<Figure size 640x480 with 2 Axes>"
      ]
     },
     "metadata": {},
     "output_type": "display_data"
    }
   ],
   "source": [
    "# ******************* Unbalanced Data **************************\n",
    "#Build SRF model\n",
    "SRF = RandomForestClassifier(n_estimators=150, random_state=0)\n",
    "#Create Stratified K-fold cross validation\n",
    "cv = RepeatedStratifiedKFold(n_splits=10, n_repeats=3, random_state=1)\n",
    "scoring = ('f1', 'recall', 'precision')\n",
    "#Evaluate SRF model\n",
    "scores = cross_validate(SRF, X, y, scoring=scoring, cv=cv)\n",
    "#Get average evaluation metrics\n",
    "print('Mean f1: %.3f' % mean(scores['test_f1']))\n",
    "print('Mean recall: %.3f' % mean(scores['test_recall']))\n",
    "print('Mean precision: %.3f' % mean(scores['test_precision']))\n",
    "\n",
    "scores_acc = cross_val_score(SRF, X,y, cv=cv, scoring='accuracy')\n",
    "print(\"Average Score: {}\".format(np.mean(scores_acc)))\n",
    "\n",
    "#Randomly spilt dataset to test and train set\n",
    "X_train, X_test, y_train, y_test = train_test_split(X, y, test_size=0.33, stratify=y)\n",
    "#Train SRF\n",
    "SRF.fit(X_train, y_train)\n",
    "#SRF prediction result\n",
    "y_test_pred = SRF.predict(X_test)\n",
    "\n",
    "#Create confusion matrix\n",
    "cm = confusion_matrix(y_test, y_test_pred)\n",
    "ConfusionMatrixDisplay(cm, display_labels=target_names).plot()\n",
    "print(classification_report(y_test, y_test_pred, target_names=target_names))"
   ]
  },
  {
   "cell_type": "code",
   "execution_count": 7,
   "metadata": {},
   "outputs": [
    {
     "name": "stdout",
     "output_type": "stream",
     "text": [
      "Mean f1: 0.797\n",
      "Mean recall: 0.823\n",
      "Mean precision: 0.773\n",
      "Average Score: 0.7904907703230387\n",
      "              precision    recall  f1-score   support\n",
      "\n",
      "          OK       0.99      0.93      0.96       517\n",
      "         nOK       0.43      0.90      0.58        30\n",
      "\n",
      "    accuracy                           0.93       547\n",
      "   macro avg       0.71      0.92      0.77       547\n",
      "weighted avg       0.96      0.93      0.94       547\n",
      "\n"
     ]
    },
    {
     "data": {
      "image/png": "[encoded data removed]",
      "text/plain": [
       "<Figure size 640x480 with 2 Axes>"
      ]
     },
     "metadata": {},
     "output_type": "display_data"
    }
   ],
   "source": [
    "from imblearn.over_sampling import SMOTE\n",
    "# ******************* Balanced Data **************************\n",
    "#Use SMOTE to oversample the minority class\n",
    "oversample = SMOTE()\n",
    "over_X, over_y = oversample.fit_resample(X, y)\n",
    "over_X_train, over_X_test, over_y_train, over_y_test = train_test_split(over_X, over_y, test_size=0.33, stratify=over_y)\n",
    "#Build SMOTE SRF model\n",
    "SMOTE_SRF = RandomForestClassifier(n_estimators=150, random_state=0)\n",
    "#Create Stratified K-fold cross validation\n",
    "cv = RepeatedStratifiedKFold(n_splits=10, n_repeats=3, random_state=1)\n",
    "scoring = ('f1', 'recall', 'precision')\n",
    "#Evaluate SMOTE SRF model\n",
    "scores = cross_validate(SMOTE_SRF, over_X, over_y, scoring=scoring, cv=cv)\n",
    "#Get average evaluation metrics\n",
    "print('Mean f1: %.3f' % mean(scores['test_f1']))\n",
    "print('Mean recall: %.3f' % mean(scores['test_recall']))\n",
    "print('Mean precision: %.3f' % mean(scores['test_precision']))\n",
    "\n",
    "scores_acc = cross_val_score(SMOTE_SRF, over_X,over_y, cv=cv, scoring='accuracy')\n",
    "print(\"Average Score: {}\".format(np.mean(scores_acc)))\n",
    "\n",
    "#Randomly spilt dataset to test and train set\n",
    "X_train, X_test, y_train, y_test = train_test_split(X, y, test_size=0.33, stratify=y)\n",
    "#Train SRF\n",
    "SMOTE_SRF.fit(over_X_train, over_y_train)\n",
    "#SRF prediction result\n",
    "y_test_pred = SMOTE_SRF.predict(X_test)\n",
    "\n",
    "#Create confusion matrix\n",
    "cm = confusion_matrix(y_test, y_test_pred)\n",
    "ConfusionMatrixDisplay(cm, display_labels=target_names).plot()\n",
    "print(classification_report(y_test, y_test_pred, target_names=target_names))"
   ]
  },
  {
   "cell_type": "code",
   "execution_count": null,
   "metadata": {},
   "outputs": [],
   "source": []
  }
 ],
 "metadata": {
  "kernelspec": {
   "display_name": "Python 3",
   "language": "python",
   "name": "python3"
  },
  "language_info": {
   "codemirror_mode": {
    "name": "ipython",
    "version": 3
   },
   "file_extension": ".py",
   "mimetype": "text/x-python",
   "name": "python",
   "nbconvert_exporter": "python",
   "pygments_lexer": "ipython3",
   "version": "3.10.6"
  }
 },
 "nbformat": 4,
 "nbformat_minor": 4
}
